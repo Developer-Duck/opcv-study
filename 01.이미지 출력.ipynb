{
 "cells": [
  {
   "cell_type": "markdown",
   "id": "5f7e3885",
   "metadata": {},
   "source": [
    "\n",
    "# 환경 설정\n",
    "Anaconda Prompt 에서 다음 명령 수행\n",
    "> pip install opencv-python"
   ]
  },
  {
   "cell_type": "code",
   "execution_count": 6,
   "id": "d6f4acbc",
   "metadata": {},
   "outputs": [
    {
     "data": {
      "text/plain": [
       "'4.9.0'"
      ]
     },
     "execution_count": 6,
     "metadata": {},
     "output_type": "execute_result"
    }
   ],
   "source": [
    "import cv2\n",
    "cv2.__version__"
   ]
  },
  {
   "cell_type": "markdown",
   "id": "7604cca5",
   "metadata": {},
   "source": [
    "# 1. 이미지 출력"
   ]
  },
  {
   "cell_type": "code",
   "execution_count": 8,
   "id": "cd116cde",
   "metadata": {
    "scrolled": true
   },
   "outputs": [
    {
     "name": "stdout",
     "output_type": "stream",
     "text": [
      "-1\n"
     ]
    }
   ],
   "source": [
    "import cv2\n",
    "img = cv2.imread('images/img.jpg')# 해당 경로의 파일 읽\n",
    "cv2.imshow('img',img) # img 하는 이름의 창에 img를 표시\n",
    "key = cv2.waitKey(0) # 지정된 시간(ms) 동안 사용자 키 입력 대기\n",
    "print(key)\n",
    "cv2.destroyAllWindows() # 모든 창 닫기"
   ]
  },
  {
   "cell_type": "markdown",
   "id": "633393cb",
   "metadata": {},
   "source": [
    "## 읽기 옵션\n",
    "1. cv2.IMREADE_COLOR : 컬러 이미지 투명 영역은 무시 (기본값)\n",
    "2. cv2.IMREADE_GRAYSCALE : 흑백 이미지\n",
    "3. cv2.IMREADE_UNCHANGED : 투명 영역 까지 포함"
   ]
  },
  {
   "cell_type": "code",
   "execution_count": 13,
   "id": "c6b56ae5",
   "metadata": {},
   "outputs": [],
   "source": [
    "import cv2\n",
    "img_color = cv2.imread('images/img.jpg',cv2.IMREAD_COLOR)\n",
    "img_grayscale = cv2.imread('images/img.jpg',cv2.IMREAD_GRAYSCALE)\n",
    "img_unchanged = cv2.imread('images/img.jpg',cv2.IMREAD_UNCHANGED)\n",
    "\n",
    "cv2.imshow('img_color',img_color)\n",
    "cv2.imshow('img_grayscale',img_grayscale)\n",
    "cv2.imshow('img_unchanged',img_unchanged)\n",
    "\n",
    "cv2.waitKey(0)\n",
    "cv2.destroyAllWindows()"
   ]
  },
  {
   "cell_type": "markdown",
   "id": "c84d8d4f",
   "metadata": {},
   "source": [
    "## Shape\n",
    "이지의 height, width, channel 정보"
   ]
  },
  {
   "cell_type": "code",
   "execution_count": 15,
   "id": "ffa10120",
   "metadata": {},
   "outputs": [
    {
     "data": {
      "text/plain": [
       "(427, 640, 3)"
      ]
     },
     "execution_count": 15,
     "metadata": {},
     "output_type": "execute_result"
    }
   ],
   "source": [
    "import cv2\n",
    "img = cv2.imread('images/img.jpg')\n",
    "img.shape # 가로, 세로 Channel\n"
   ]
  }
 ],
 "metadata": {
  "kernelspec": {
   "display_name": "Python 3 (ipykernel)",
   "language": "python",
   "name": "python3"
  },
  "language_info": {
   "codemirror_mode": {
    "name": "ipython",
    "version": 3
   },
   "file_extension": ".py",
   "mimetype": "text/x-python",
   "name": "python",
   "nbconvert_exporter": "python",
   "pygments_lexer": "ipython3",
   "version": "3.11.5"
  }
 },
 "nbformat": 4,
 "nbformat_minor": 5
}
