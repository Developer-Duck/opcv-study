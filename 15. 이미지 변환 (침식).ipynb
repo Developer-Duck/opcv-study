{
 "cells": [
  {
   "cell_type": "markdown",
   "id": "088329d8",
   "metadata": {},
   "source": [
    "## 이미지를 깍아서 노이지 제거\n",
    "흰색 영역의 외곽 픽셀을 검은색으로 변경"
   ]
  },
  {
   "cell_type": "code",
   "execution_count": null,
   "id": "e7f836ca",
   "metadata": {},
   "outputs": [],
   "source": [
    "import cv2\n",
    "import numpy as np\n",
    "kernel = np.ones((3,3), dtype = np.uint8)\n",
    "\n",
    "img = cv2.imread('images/erode.png',cv2.IMREAD_GRAYSCALE)\n",
    "erode1 = cv2.erode(img, kernel, iterations = 1)\n",
    "erode2 = cv2.erode(img, kernel, iterations = 2)\n",
    "erode3 = cv2.erode(img, kernel, iterations = 3)\n",
    "\n",
    "\n",
    "\n",
    "cv2.imshow('gray',img)\n",
    "cv2.imshow('erode1',erode1)\n",
    "cv2.imshow('erode2',erode2)\n",
    "cv2.imshow('erode3',erode3)\n",
    "cv2.waitKey(0)\n",
    "cv2.destroyAllWindows()"
   ]
  },
  {
   "cell_type": "code",
   "execution_count": null,
   "id": "05a9b521",
   "metadata": {},
   "outputs": [],
   "source": []
  }
 ],
 "metadata": {
  "kernelspec": {
   "display_name": "Python 3 (ipykernel)",
   "language": "python",
   "name": "python3"
  },
  "language_info": {
   "codemirror_mode": {
    "name": "ipython",
    "version": 3
   },
   "file_extension": ".py",
   "mimetype": "text/x-python",
   "name": "python",
   "nbconvert_exporter": "python",
   "pygments_lexer": "ipython3",
   "version": "3.11.5"
  }
 },
 "nbformat": 4,
 "nbformat_minor": 5
}
