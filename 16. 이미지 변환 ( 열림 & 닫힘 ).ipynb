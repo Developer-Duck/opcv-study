{
 "cells": [
  {
   "cell_type": "markdown",
   "id": "3af133ef",
   "metadata": {},
   "source": [
    "## 16. 이미지 변환 ( 열림 & 닫힘 )"
   ]
  },
  {
   "cell_type": "markdown",
   "id": "b85171e8",
   "metadata": {},
   "source": [
    "## 열림 ( Opening ) : 침식 후 팽창. 깍아서 노이즈 제거 후 살 찌움\n",
    ">dilate(erode(imgage))"
   ]
  },
  {
   "cell_type": "code",
   "execution_count": 12,
   "id": "af315c9a",
   "metadata": {},
   "outputs": [],
   "source": [
    "import cv2\n",
    "import numpy as np\n",
    "kernel = np.ones((3,3), dtype = np.uint8)\n",
    "img = cv2. imread('images/erode.png',cv2.IMREAD_GRAYSCALE)\n",
    "erode = cv2.erode(img, kernel, iterations = 3)\n",
    "dilate = cv2.dilate(erode, kernel, iterations = 3 )\n",
    "\n",
    "\n",
    "\n",
    "cv2.imshow('gray',img)\n",
    "\n",
    "cv2.imshow('erode',erode)\n",
    "cv2.imshow('dilate',dilate)\n",
    "cv2.waitKey(0)\n",
    "cv2.destroyAllWindows()"
   ]
  },
  {
   "cell_type": "markdown",
   "id": "fb914105",
   "metadata": {},
   "source": [
    "## 닫힘 ( Closing ) : 팽창 후 침식. 구멍을 메운 후 다시 깍음\n",
    "> erode(dilate(image))"
   ]
  },
  {
   "cell_type": "code",
   "execution_count": 22,
   "id": "e9fa46aa",
   "metadata": {},
   "outputs": [],
   "source": [
    "import cv2\n",
    "import numpy as np\n",
    "kernel = np.ones((3,3), dtype = np.uint8)\n",
    "img = cv2. imread('images/dilate.png',cv2.IMREAD_GRAYSCALE)\n",
    "\n",
    "dilate = cv2.dilate(img, kernel, iterations = 4 )\n",
    "erode = cv2.erode(dilate, kernel, iterations = 4 )\n",
    "\n",
    "\n",
    "\n",
    "\n",
    "cv2.imshow('gray',img)\n",
    "\n",
    "cv2.imshow('erode',erode)\n",
    "cv2.imshow('dilate',dilate)\n",
    "cv2.waitKey(0)\n",
    "cv2.destroyAllWindows()"
   ]
  }
 ],
 "metadata": {
  "kernelspec": {
   "display_name": "Python 3 (ipykernel)",
   "language": "python",
   "name": "python3"
  },
  "language_info": {
   "codemirror_mode": {
    "name": "ipython",
    "version": 3
   },
   "file_extension": ".py",
   "mimetype": "text/x-python",
   "name": "python",
   "nbconvert_exporter": "python",
   "pygments_lexer": "ipython3",
   "version": "3.11.5"
  }
 },
 "nbformat": 4,
 "nbformat_minor": 5
}
